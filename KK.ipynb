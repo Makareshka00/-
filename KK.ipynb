

numbers = [1, 1000, 1002124, 25, 10, 20, 351]
numbers_int_sorted = sorted(numbers)
print (numbers_int_sorted)
numbers_str = list (map(str, numbers))
print (numbers_str)
numbers_str_sorted = sorted (numbers_str)
print (numbers_str_sorted)
numbers_str_key_sorted = list(map(numbers_str_sorted.split()))
